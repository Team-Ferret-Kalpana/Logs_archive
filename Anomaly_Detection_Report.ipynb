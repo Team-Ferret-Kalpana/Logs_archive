{
 "cells": [
  {
   "cell_type": "markdown",
   "id": "c04fddeb",
   "metadata": {},
   "source": [
    "## Anomaly Detection in Curriculum logs\n",
    "\n",
    "Jess Gardin\n",
    "\n",
    "Saroj Duwal\n",
    "\n",
    "Lindy Castellaw\n",
    "\n",
    "### Acquire/Wrangle"
   ]
  },
  {
   "cell_type": "code",
   "execution_count": 1,
   "id": "91e8b4bf",
   "metadata": {},
   "outputs": [],
   "source": [
    "import env\n",
    "import warnings\n",
    "warnings.filterwarnings(\"ignore\")\n",
    "import os\n",
    "import re\n",
    "import numpy as np\n",
    "import pandas as pd\n",
    "import seaborn as sns\n",
    "import matplotlib.pyplot as plt\n",
    "from sklearn import metrics\n",
    "import numpy as np\n",
    "import pandas as pd\n",
    "import env\n",
    "import wrangle "
   ]
  },
  {
   "cell_type": "code",
   "execution_count": 2,
   "id": "44f5bb67",
   "metadata": {},
   "outputs": [],
   "source": [
    "df = wrangle.get_logs()"
   ]
  },
  {
   "cell_type": "code",
   "execution_count": 3,
   "id": "91d63d04",
   "metadata": {
    "scrolled": true
   },
   "outputs": [
    {
     "data": {
      "text/html": [
       "<div>\n",
       "<style scoped>\n",
       "    .dataframe tbody tr th:only-of-type {\n",
       "        vertical-align: middle;\n",
       "    }\n",
       "\n",
       "    .dataframe tbody tr th {\n",
       "        vertical-align: top;\n",
       "    }\n",
       "\n",
       "    .dataframe thead th {\n",
       "        text-align: right;\n",
       "    }\n",
       "</style>\n",
       "<table border=\"1\" class=\"dataframe\">\n",
       "  <thead>\n",
       "    <tr style=\"text-align: right;\">\n",
       "      <th></th>\n",
       "      <th>date</th>\n",
       "      <th>time</th>\n",
       "      <th>endpoint</th>\n",
       "      <th>user</th>\n",
       "      <th>source_ip</th>\n",
       "      <th>cohort_name</th>\n",
       "      <th>start_date</th>\n",
       "      <th>end_date</th>\n",
       "      <th>program_id</th>\n",
       "      <th>page_1</th>\n",
       "      <th>page_2</th>\n",
       "      <th>page_3</th>\n",
       "      <th>page_4</th>\n",
       "    </tr>\n",
       "    <tr>\n",
       "      <th>date</th>\n",
       "      <th></th>\n",
       "      <th></th>\n",
       "      <th></th>\n",
       "      <th></th>\n",
       "      <th></th>\n",
       "      <th></th>\n",
       "      <th></th>\n",
       "      <th></th>\n",
       "      <th></th>\n",
       "      <th></th>\n",
       "      <th></th>\n",
       "      <th></th>\n",
       "      <th></th>\n",
       "    </tr>\n",
       "  </thead>\n",
       "  <tbody>\n",
       "    <tr>\n",
       "      <th>2018-01-26</th>\n",
       "      <td>2018-01-26</td>\n",
       "      <td>09:55:03</td>\n",
       "      <td>/</td>\n",
       "      <td>1</td>\n",
       "      <td>97.105.19.61</td>\n",
       "      <td>Hampton</td>\n",
       "      <td>2015-09-22</td>\n",
       "      <td>2016-02-06</td>\n",
       "      <td>1</td>\n",
       "      <td></td>\n",
       "      <td></td>\n",
       "      <td>None</td>\n",
       "      <td>None</td>\n",
       "    </tr>\n",
       "    <tr>\n",
       "      <th>2018-01-26</th>\n",
       "      <td>2018-01-26</td>\n",
       "      <td>09:56:02</td>\n",
       "      <td>java-ii</td>\n",
       "      <td>1</td>\n",
       "      <td>97.105.19.61</td>\n",
       "      <td>Hampton</td>\n",
       "      <td>2015-09-22</td>\n",
       "      <td>2016-02-06</td>\n",
       "      <td>1</td>\n",
       "      <td>java-ii</td>\n",
       "      <td>None</td>\n",
       "      <td>None</td>\n",
       "      <td>None</td>\n",
       "    </tr>\n",
       "    <tr>\n",
       "      <th>2018-01-26</th>\n",
       "      <td>2018-01-26</td>\n",
       "      <td>09:56:05</td>\n",
       "      <td>java-ii/object-oriented-programming</td>\n",
       "      <td>1</td>\n",
       "      <td>97.105.19.61</td>\n",
       "      <td>Hampton</td>\n",
       "      <td>2015-09-22</td>\n",
       "      <td>2016-02-06</td>\n",
       "      <td>1</td>\n",
       "      <td>java-ii</td>\n",
       "      <td>object-oriented-programming</td>\n",
       "      <td>None</td>\n",
       "      <td>None</td>\n",
       "    </tr>\n",
       "    <tr>\n",
       "      <th>2018-01-26</th>\n",
       "      <td>2018-01-26</td>\n",
       "      <td>09:56:06</td>\n",
       "      <td>slides/object_oriented_programming</td>\n",
       "      <td>1</td>\n",
       "      <td>97.105.19.61</td>\n",
       "      <td>Hampton</td>\n",
       "      <td>2015-09-22</td>\n",
       "      <td>2016-02-06</td>\n",
       "      <td>1</td>\n",
       "      <td>slides</td>\n",
       "      <td>object_oriented_programming</td>\n",
       "      <td>None</td>\n",
       "      <td>None</td>\n",
       "    </tr>\n",
       "    <tr>\n",
       "      <th>2018-01-26</th>\n",
       "      <td>2018-01-26</td>\n",
       "      <td>09:56:24</td>\n",
       "      <td>javascript-i/conditionals</td>\n",
       "      <td>2</td>\n",
       "      <td>97.105.19.61</td>\n",
       "      <td>Teddy</td>\n",
       "      <td>2018-01-08</td>\n",
       "      <td>2018-05-17</td>\n",
       "      <td>2</td>\n",
       "      <td>javascript-i</td>\n",
       "      <td>conditionals</td>\n",
       "      <td>None</td>\n",
       "      <td>None</td>\n",
       "    </tr>\n",
       "  </tbody>\n",
       "</table>\n",
       "</div>"
      ],
      "text/plain": [
       "                 date      time                             endpoint  user  \\\n",
       "date                                                                         \n",
       "2018-01-26 2018-01-26  09:55:03                                    /     1   \n",
       "2018-01-26 2018-01-26  09:56:02                              java-ii     1   \n",
       "2018-01-26 2018-01-26  09:56:05  java-ii/object-oriented-programming     1   \n",
       "2018-01-26 2018-01-26  09:56:06   slides/object_oriented_programming     1   \n",
       "2018-01-26 2018-01-26  09:56:24            javascript-i/conditionals     2   \n",
       "\n",
       "               source_ip cohort_name start_date   end_date  program_id  \\\n",
       "date                                                                     \n",
       "2018-01-26  97.105.19.61     Hampton 2015-09-22 2016-02-06           1   \n",
       "2018-01-26  97.105.19.61     Hampton 2015-09-22 2016-02-06           1   \n",
       "2018-01-26  97.105.19.61     Hampton 2015-09-22 2016-02-06           1   \n",
       "2018-01-26  97.105.19.61     Hampton 2015-09-22 2016-02-06           1   \n",
       "2018-01-26  97.105.19.61       Teddy 2018-01-08 2018-05-17           2   \n",
       "\n",
       "                  page_1                       page_2 page_3 page_4  \n",
       "date                                                                 \n",
       "2018-01-26                                              None   None  \n",
       "2018-01-26       java-ii                         None   None   None  \n",
       "2018-01-26       java-ii  object-oriented-programming   None   None  \n",
       "2018-01-26        slides  object_oriented_programming   None   None  \n",
       "2018-01-26  javascript-i                 conditionals   None   None  "
      ]
     },
     "execution_count": 3,
     "metadata": {},
     "output_type": "execute_result"
    }
   ],
   "source": [
    "df, ds_df, web_df, staff_df = wrangle.prepare_log(df)\n",
    "df.head()"
   ]
  },
  {
   "cell_type": "markdown",
   "id": "2fa32d3a",
   "metadata": {},
   "source": [
    "## 1. Which lesson appears to attract the most traffic consistently across cohorts (per program)?"
   ]
  },
  {
   "cell_type": "markdown",
   "id": "5a256467",
   "metadata": {},
   "source": [
    "#### - for Data Science Program"
   ]
  },
  {
   "cell_type": "code",
   "execution_count": null,
   "id": "b0eceef6",
   "metadata": {},
   "outputs": [],
   "source": [
    "# value counts with pages converted to dataframe\n",
    "pd.DataFrame(ds_df[['page_1','page_2','page_3']].value_counts())"
   ]
  },
  {
   "cell_type": "code",
   "execution_count": null,
   "id": "d9628b40",
   "metadata": {},
   "outputs": [],
   "source": [
    "# visualize  data science cohort pages/lessons visited\n",
    "\n",
    "plt.figure(figsize=(20,10))\n",
    "ds_df[['page_1','page_2','page_3']].value_counts().head(20).plot(kind='barh')"
   ]
  },
  {
   "cell_type": "markdown",
   "id": "52ed448e",
   "metadata": {},
   "source": [
    "#### - for Web Developer Program"
   ]
  },
  {
   "cell_type": "code",
   "execution_count": null,
   "id": "64258495",
   "metadata": {},
   "outputs": [],
   "source": [
    "# creating a dataframe with pages and count\n",
    "pd.DataFrame(web_df[['page_1','page_2','page_3']].value_counts())"
   ]
  },
  {
   "cell_type": "code",
   "execution_count": null,
   "id": "ea56790c",
   "metadata": {},
   "outputs": [],
   "source": [
    "# visualize for web devlopers by page\n",
    "plt.figure(figsize=(20,10))\n",
    "web_df[['page_1','page_2','page_3']].value_counts().head(20).plot(kind='barh')"
   ]
  },
  {
   "cell_type": "markdown",
   "id": "b15a11fe",
   "metadata": {},
   "source": [
    "### Takeaways from question 1\n",
    "#### - Web Development Program most visited Lesson : \"**working-with-data-types-operators-and-variables from Javscript-I Introduction** \" \n",
    "#### - Data Science Program most visited Lesson : \" ** creating-files-and-directories from Comand Line Interface(cli)  in Appendix\"  "
   ]
  },
  {
   "cell_type": "markdown",
   "id": "782f51ac",
   "metadata": {},
   "source": [
    "\n",
    "\n",
    "\n",
    "\n",
    "# 7. Which lessons are least accessed?\n",
    "\n",
    "\n",
    "#### - for Data Science Program\n",
    "\n",
    "\n"
   ]
  },
  {
   "cell_type": "code",
   "execution_count": null,
   "id": "809115a9",
   "metadata": {},
   "outputs": [],
   "source": [
    "# plot pages for data science program with the bottom 30 observations\n",
    "plt.figure(figsize=(20,10))\n",
    "ds_df[['page_1','page_2','page_3']].value_counts().tail(30).plot(kind='barh')"
   ]
  },
  {
   "cell_type": "code",
   "execution_count": null,
   "id": "d8ccfbc7",
   "metadata": {
    "scrolled": true
   },
   "outputs": [],
   "source": [
    "# creating a dtaframe with bottom 30 observations of the pages visited\n",
    "pd.DataFrame(ds_df[['page_1','page_2','page_3']].value_counts().tail(30))"
   ]
  },
  {
   "cell_type": "markdown",
   "id": "317f5e81",
   "metadata": {},
   "source": [
    "#### - for Web Developer Program"
   ]
  },
  {
   "cell_type": "code",
   "execution_count": null,
   "id": "3bfc15f2",
   "metadata": {},
   "outputs": [],
   "source": [
    "# plot the bar chart for the bottom observations\n",
    "plt.figure(figsize=(20,30))\n",
    "web_df[['page_1','page_2','page_3']].value_counts().tail(70).plot(kind='barh')"
   ]
  },
  {
   "cell_type": "code",
   "execution_count": null,
   "id": "e2c55103",
   "metadata": {},
   "outputs": [],
   "source": [
    "# creating a datframe  with the bottom observations\n",
    "pd.DataFrame(web_df[['page_1','page_2','page_3']].value_counts().tail(60))"
   ]
  },
  {
   "cell_type": "markdown",
   "id": "e3ace769",
   "metadata": {},
   "source": [
    "### Takeaways from Question 7\n",
    "- least accessed lesson on Data Science program:\" \"\n",
    "- least accessed lesson on Web Developer program:\" \""
   ]
  },
  {
   "cell_type": "markdown",
   "id": "f74859f4",
   "metadata": {},
   "source": [
    "# 2. Is there a cohort that referred to a lesson significantly more than other cohorts seemed to gloss over?"
   ]
  },
  {
   "cell_type": "markdown",
   "id": "e2ba7022",
   "metadata": {},
   "source": [
    "#### - for unique Data Science Program Cohort"
   ]
  },
  {
   "cell_type": "code",
   "execution_count": null,
   "id": "dd4f1119",
   "metadata": {},
   "outputs": [],
   "source": [
    "# data science cohort unique names\n",
    "ds_df.cohort_name.unique().tolist()"
   ]
  },
  {
   "cell_type": "code",
   "execution_count": null,
   "id": "84f4a0c4",
   "metadata": {},
   "outputs": [],
   "source": [
    "# create a list for the unique data science cohort name\n",
    "val= list(ds_df.cohort_name.unique())\n",
    "\n",
    "# loop through each unique cohort name and barchart plot the top and bottom 15 observations\n",
    "for x in val:\n",
    "    print(f'Cohort : {x}')\n",
    "    ds_sub_df= ds_df[ds_df.cohort_name== x]\n",
    "    ds_sub_df[['page_1','page_2','page_3']].value_counts().head(15).plot(kind='barh')\n",
    "    plt.show()\n",
    "    ds_sub_df[['page_1','page_2','page_3']].value_counts().tail(15).plot(kind='barh')\n",
    "    plt.ylabel=('page visited')\n",
    "    plt.xlabel =( 'times visited') \n",
    "    plt.show()\n",
    "    print('------------------------------------------------------------------')"
   ]
  },
  {
   "cell_type": "markdown",
   "id": "7fc5c357",
   "metadata": {},
   "source": [
    "#### - for unique Web Developer Program Cohort"
   ]
  },
  {
   "cell_type": "code",
   "execution_count": null,
   "id": "b72db888",
   "metadata": {},
   "outputs": [],
   "source": [
    "# web development unique cohort list\n",
    "web_df.cohort_name.unique()"
   ]
  },
  {
   "cell_type": "code",
   "execution_count": null,
   "id": "bbb54157",
   "metadata": {},
   "outputs": [],
   "source": [
    "#  web development cohort list\n",
    "val= list(web_df.cohort_name.unique())\n",
    "\n",
    "for x in val:\n",
    "    print(f'Cohort : {x}')\n",
    "    web_sub_df= web_df[web_df.cohort_name== x]\n",
    "    web_sub_df[['page_1','page_2','page_3']].value_counts().head(15).plot(kind='barh')\n",
    "    web_sub_df[['page_1','page_2','page_3']].value_counts().tail(15).plot(kind='barh')\n",
    "    plt.ylabel=('page visited')\n",
    "    plt.xlabel =( 'times visited') \n",
    "    plt.show()\n",
    "    print('--------------------------------------------------------')"
   ]
  },
  {
   "cell_type": "markdown",
   "id": "2619400b",
   "metadata": {},
   "source": [
    "### Takeaways from Question no 2.\n",
    "- \n",
    "- "
   ]
  },
  {
   "cell_type": "markdown",
   "id": "13fa135a",
   "metadata": {},
   "source": [
    "# 5. At some point in 2019, the ability for students and alumni to access both curriculums (web dev to ds, ds to web dev) should have been shut off. Do you see any evidence of that happening? Did it happen before?"
   ]
  },
  {
   "cell_type": "code",
   "execution_count": null,
   "id": "21d2635f",
   "metadata": {},
   "outputs": [],
   "source": [
    "# for data science students checking the web dev\n",
    "\n",
    "# unique pages visited \n",
    "page= list(ds_df.endpoint.unique())\n",
    "\n",
    "# list of unique pages in web dev\n",
    "web_keyword = list(web_df.endpoint.unique())\n",
    "\n",
    "# create a loop to cross check a page visited by ds students that matches with unique pages from web dev cohort\n",
    "\n",
    "count= 0\n",
    "lst=[]\n",
    "for x in web_keyword:\n",
    "    if x in page:\n",
    "        print(x)\n",
    "        \n",
    "        count+= 1\n",
    "        lst.append(x)\n",
    "        \n",
    "print(count)\n"
   ]
  },
  {
   "cell_type": "code",
   "execution_count": null,
   "id": "29efe536",
   "metadata": {},
   "outputs": [],
   "source": [
    "# web dev students visiting data science topics\n",
    "\n",
    "# list of unique pages visited by web dev cohort\n",
    "page = list(web_df.endpoint.unique())\n",
    "\n",
    "# unique pages visited by data science cohort\n",
    "ds_keyword = list(ds_df.endpoint.unique())\n",
    "\n",
    "count= 0\n",
    "cross_curr=[]\n",
    "# loop\n",
    "for x in ds_keyword:\n",
    "    if x in page:\n",
    "        print(x)\n",
    "        \n",
    "        count+= 1\n",
    "        cross_curr.append(x)\n",
    "        \n",
    "print(count)\n"
   ]
  },
  {
   "cell_type": "markdown",
   "id": "36886b9f",
   "metadata": {},
   "source": [
    "## Takeaways from Question no. 5\n",
    "- Access to both curriculum s were not shut off\n",
    "- It is evident that there is cross referencing curriculum between the Data Science and web Developer Programs"
   ]
  },
  {
   "cell_type": "code",
   "execution_count": null,
   "id": "9d873ca4",
   "metadata": {},
   "outputs": [],
   "source": []
  },
  {
   "cell_type": "markdown",
   "id": "c05b3b19",
   "metadata": {},
   "source": [
    "# 6. What topics are grads continuing to reference after graduation and into their jobs (for each program)?\n",
    "\n",
    "\n",
    "Top five topics accessed for web dev after graduation:\n",
    "\n",
    "1. '/' is homepage for web dev curriculum\n",
    "2. 'javascript-i' front end language \n",
    "3. 'spring' back end framework for java\n",
    "4. 'html-css' front end languages \n",
    "5. 'search_index.json' search in json"
   ]
  },
  {
   "cell_type": "code",
   "execution_count": 4,
   "id": "da37eedd",
   "metadata": {},
   "outputs": [
    {
     "data": {
      "text/plain": [
       "<AxesSubplot:ylabel='endpoint'>"
      ]
     },
     "execution_count": 4,
     "metadata": {},
     "output_type": "execute_result"
    },
    {
     "data": {
      "image/png": "[encoded data removed]",
      "text/plain": [
       "<Figure size 1440x720 with 1 Axes>"
      ]
     },
     "metadata": {
      "needs_background": "light"
     },
     "output_type": "display_data"
    }
   ],
   "source": [
    "plt.figure(figsize=(20,10))\n",
    "web_df[['endpoint']].value_counts().head().plot(kind='barh')"
   ]
  },
  {
   "cell_type": "markdown",
   "id": "eadffac8",
   "metadata": {},
   "source": [
    "Top five topics accessed for Data Science after graduation:\n",
    "1. '/' homepage for curriculum\n",
    "2. 'search_index.json' search in json\n",
    "3. 'mysql-overview' mysql intro lesson\n",
    "4. 'classification/overview' classification intro lesson\n",
    "5. 'scale_features_or_not.svg' scaling lesson"
   ]
  },
  {
   "cell_type": "code",
   "execution_count": 5,
   "id": "2c6875e5",
   "metadata": {},
   "outputs": [
    {
     "data": {
      "text/plain": [
       "<AxesSubplot:ylabel='endpoint'>"
      ]
     },
     "execution_count": 5,
     "metadata": {},
     "output_type": "execute_result"
    },
    {
     "data": {
      "image/png": "[encoded data removed]",
      "text/plain": [
       "<Figure size 1440x720 with 1 Axes>"
      ]
     },
     "metadata": {
      "needs_background": "light"
     },
     "output_type": "display_data"
    }
   ],
   "source": [
    "# for DS cohort\n",
    "plt.figure(figsize=(20,10))\n",
    "ds_df[['endpoint']].value_counts().head().plot(kind='barh')"
   ]
  },
  {
   "cell_type": "markdown",
   "id": "7cfc5190",
   "metadata": {},
   "source": [
    "# 4\n",
    "Is there any suspicious activity, such as users/machines/etc accessing the curriculum who shouldn’t be? Does it appear that any web-scraping is happening? Are there any suspicious IP addresses?"
   ]
  },
  {
   "cell_type": "markdown",
   "id": "3baa13df",
   "metadata": {},
   "source": [
    "# Identify students who present anomalous activity using the Bollinger Band method. K = 3, span = 30."
   ]
  },
  {
   "cell_type": "code",
   "execution_count": null,
   "id": "218f3a50",
   "metadata": {},
   "outputs": [],
   "source": [
    "span = 30\n",
    "weight = 3\n",
    "\n",
    "anomalies = pd.DataFrame()\n",
    "for u in list(df.user.unique()):\n",
    "    user_df = fun_4.find_anomalies(df, u, span, weight)\n",
    "    anomalies = pd.concat([anomalies, user_df], axis=0)"
   ]
  },
  {
   "cell_type": "code",
   "execution_count": null,
   "id": "bf60ddc3",
   "metadata": {},
   "outputs": [],
   "source": [
    "anomalies.shape"
   ]
  },
  {
   "cell_type": "markdown",
   "id": "5e51f761",
   "metadata": {},
   "source": [
    "# Thats a lot of anomalies. \n",
    "Maybe we can narrow it down further"
   ]
  },
  {
   "cell_type": "markdown",
   "id": "6862b7bb",
   "metadata": {},
   "source": [
    "# Cohort name anomalies"
   ]
  },
  {
   "cell_type": "code",
   "execution_count": null,
   "id": "c1d6ea6d",
   "metadata": {},
   "outputs": [],
   "source": [
    "# Find all the users that don't have a cohort name assigned to them\n",
    "coh_nam_na = df[df.cohort_name.isna()]"
   ]
  },
  {
   "cell_type": "code",
   "execution_count": null,
   "id": "83931bfe",
   "metadata": {},
   "outputs": [],
   "source": [
    "# Identify all unique user id's \n",
    "coh_nam_na.user.unique();"
   ]
  },
  {
   "cell_type": "markdown",
   "id": "03938217",
   "metadata": {
    "scrolled": true
   },
   "source": [
    "# Looking for people with both individual user anomalies and no cohort name."
   ]
  },
  {
   "cell_type": "code",
   "execution_count": null,
   "id": "89db6810",
   "metadata": {},
   "outputs": [],
   "source": [
    "# cross check usernames without a cohort agains usernames that show anomalies\n",
    "sus_user = np.intersect1d(coh_nam_na.user.unique(),anomalies.user.unique())\n",
    "sus_user"
   ]
  },
  {
   "cell_type": "code",
   "execution_count": null,
   "id": "2e1251f0",
   "metadata": {
    "scrolled": true
   },
   "outputs": [],
   "source": [
    "fun_4.plot_bands_two(anomalies, list(sus_user))"
   ]
  },
  {
   "cell_type": "code",
   "execution_count": null,
   "id": "83b2e1a4",
   "metadata": {},
   "outputs": [],
   "source": []
  },
  {
   "cell_type": "markdown",
   "id": "45f79656",
   "metadata": {},
   "source": [
    "# Same process for IP addresses"
   ]
  },
  {
   "cell_type": "code",
   "execution_count": null,
   "id": "004a9da5",
   "metadata": {},
   "outputs": [],
   "source": [
    "span = 30\n",
    "weight = 3\n",
    "\n",
    "anomalies_ip = pd.DataFrame()\n",
    "for u in list(df.source_ip.unique()):\n",
    "    user_df_ip = fun_4.find_anomalies_ip(df, u, span, weight)\n",
    "    anomalies_ip = pd.concat([anomalies_ip, user_df_ip], axis=0)"
   ]
  },
  {
   "cell_type": "code",
   "execution_count": null,
   "id": "5a1768f4",
   "metadata": {},
   "outputs": [],
   "source": [
    "anomalies_ip.head()"
   ]
  },
  {
   "cell_type": "code",
   "execution_count": null,
   "id": "db01e17a",
   "metadata": {
    "scrolled": true
   },
   "outputs": [],
   "source": [
    "anomalies_ip.source_ip.nunique()"
   ]
  },
  {
   "cell_type": "markdown",
   "id": "4a0e6585",
   "metadata": {},
   "source": [
    "# Thats a lot of anomalies. Cross reference with users lacking cohort names."
   ]
  },
  {
   "cell_type": "code",
   "execution_count": null,
   "id": "4a427fd6",
   "metadata": {
    "scrolled": true
   },
   "outputs": [],
   "source": [
    "anomalies_ip.pages_one_user.nunique()"
   ]
  },
  {
   "cell_type": "code",
   "execution_count": null,
   "id": "3b4f1b1b",
   "metadata": {},
   "outputs": [],
   "source": [
    "# lists the users who were using the ip address when the ip address was displaying suspicious behaviour\n",
    "sus_ip = np.intersect1d(coh_nam_na.user.unique(),anomalies.pages_one_user.unique())\n",
    "sus_ip"
   ]
  },
  {
   "cell_type": "markdown",
   "id": "5980e4ca",
   "metadata": {},
   "source": [
    "# Combine all three\n",
    "- No Cohort Name \n",
    "AND\n",
    "- Suspicious Individual User Data\n",
    "AND\n",
    "- Suspicious Source_IP Activity reported when User was using that IP adress "
   ]
  },
  {
   "cell_type": "code",
   "execution_count": null,
   "id": "072b379e",
   "metadata": {},
   "outputs": [],
   "source": [
    "# Suspicious users:\n",
    "sus = np.intersect1d(sus_user, sus_ip)\n",
    "sus"
   ]
  },
  {
   "cell_type": "code",
   "execution_count": null,
   "id": "5e2f655b",
   "metadata": {},
   "outputs": [],
   "source": []
  },
  {
   "cell_type": "code",
   "execution_count": null,
   "id": "becb5c38",
   "metadata": {},
   "outputs": [],
   "source": []
  }
 ],
 "metadata": {
  "kernelspec": {
   "display_name": "Python 3 (ipykernel)",
   "language": "python",
   "name": "python3"
  },
  "language_info": {
   "codemirror_mode": {
    "name": "ipython",
    "version": 3
   },
   "file_extension": ".py",
   "mimetype": "text/x-python",
   "name": "python",
   "nbconvert_exporter": "python",
   "pygments_lexer": "ipython3",
   "version": "3.9.12"
  }
 },
 "nbformat": 4,
 "nbformat_minor": 5
}
