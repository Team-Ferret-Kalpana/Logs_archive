{
 "cells": [
  {
   "cell_type": "markdown",
   "id": "c04fddeb",
   "metadata": {},
   "source": [
    "## Anomaly Detection in Curriculum logs\n",
    "\n",
    "Jess Gardin\n",
    "\n",
    "Saroj Duwal\n",
    "\n",
    "Lindy Castellaw\n",
    "\n",
    "### Acquire/Wrangle"
   ]
  },
  {
   "cell_type": "code",
   "execution_count": 5,
   "id": "91e8b4bf",
   "metadata": {},
   "outputs": [],
   "source": [
    "import env\n",
    "import warnings\n",
    "warnings.filterwarnings(\"ignore\")\n",
    "import os\n",
    "import re\n",
    "import numpy as np\n",
    "import pandas as pd\n",
    "import seaborn as sns\n",
    "import matplotlib.pyplot as plt\n",
    "from sklearn import metrics\n",
    "import numpy as np\n",
    "import pandas as pd\n",
    "import env\n",
    "import wrangle "
   ]
  },
  {
   "cell_type": "code",
   "execution_count": 2,
   "id": "44f5bb67",
   "metadata": {},
   "outputs": [],
   "source": [
    "df = wrangle.get_logs()"
   ]
  },
  {
   "cell_type": "code",
   "execution_count": 3,
   "id": "91d63d04",
   "metadata": {
    "scrolled": true
   },
   "outputs": [
    {
     "data": {
      "text/html": [
       "<div>\n",
       "<style scoped>\n",
       "    .dataframe tbody tr th:only-of-type {\n",
       "        vertical-align: middle;\n",
       "    }\n",
       "\n",
       "    .dataframe tbody tr th {\n",
       "        vertical-align: top;\n",
       "    }\n",
       "\n",
       "    .dataframe thead th {\n",
       "        text-align: right;\n",
       "    }\n",
       "</style>\n",
       "<table border=\"1\" class=\"dataframe\">\n",
       "  <thead>\n",
       "    <tr style=\"text-align: right;\">\n",
       "      <th></th>\n",
       "      <th>date</th>\n",
       "      <th>time</th>\n",
       "      <th>endpoint</th>\n",
       "      <th>user</th>\n",
       "      <th>source_ip</th>\n",
       "      <th>cohort_name</th>\n",
       "      <th>start_date</th>\n",
       "      <th>end_date</th>\n",
       "      <th>program_id</th>\n",
       "      <th>page_1</th>\n",
       "      <th>page_2</th>\n",
       "      <th>page_3</th>\n",
       "      <th>page_4</th>\n",
       "    </tr>\n",
       "    <tr>\n",
       "      <th>date</th>\n",
       "      <th></th>\n",
       "      <th></th>\n",
       "      <th></th>\n",
       "      <th></th>\n",
       "      <th></th>\n",
       "      <th></th>\n",
       "      <th></th>\n",
       "      <th></th>\n",
       "      <th></th>\n",
       "      <th></th>\n",
       "      <th></th>\n",
       "      <th></th>\n",
       "      <th></th>\n",
       "    </tr>\n",
       "  </thead>\n",
       "  <tbody>\n",
       "    <tr>\n",
       "      <th>2018-01-26</th>\n",
       "      <td>2018-01-26</td>\n",
       "      <td>09:55:03</td>\n",
       "      <td>/</td>\n",
       "      <td>1</td>\n",
       "      <td>97.105.19.61</td>\n",
       "      <td>Hampton</td>\n",
       "      <td>2015-09-22</td>\n",
       "      <td>2016-02-06</td>\n",
       "      <td>1</td>\n",
       "      <td></td>\n",
       "      <td></td>\n",
       "      <td>None</td>\n",
       "      <td>None</td>\n",
       "    </tr>\n",
       "    <tr>\n",
       "      <th>2018-01-26</th>\n",
       "      <td>2018-01-26</td>\n",
       "      <td>09:56:02</td>\n",
       "      <td>java-ii</td>\n",
       "      <td>1</td>\n",
       "      <td>97.105.19.61</td>\n",
       "      <td>Hampton</td>\n",
       "      <td>2015-09-22</td>\n",
       "      <td>2016-02-06</td>\n",
       "      <td>1</td>\n",
       "      <td>java-ii</td>\n",
       "      <td>None</td>\n",
       "      <td>None</td>\n",
       "      <td>None</td>\n",
       "    </tr>\n",
       "    <tr>\n",
       "      <th>2018-01-26</th>\n",
       "      <td>2018-01-26</td>\n",
       "      <td>09:56:05</td>\n",
       "      <td>java-ii/object-oriented-programming</td>\n",
       "      <td>1</td>\n",
       "      <td>97.105.19.61</td>\n",
       "      <td>Hampton</td>\n",
       "      <td>2015-09-22</td>\n",
       "      <td>2016-02-06</td>\n",
       "      <td>1</td>\n",
       "      <td>java-ii</td>\n",
       "      <td>object-oriented-programming</td>\n",
       "      <td>None</td>\n",
       "      <td>None</td>\n",
       "    </tr>\n",
       "    <tr>\n",
       "      <th>2018-01-26</th>\n",
       "      <td>2018-01-26</td>\n",
       "      <td>09:56:06</td>\n",
       "      <td>slides/object_oriented_programming</td>\n",
       "      <td>1</td>\n",
       "      <td>97.105.19.61</td>\n",
       "      <td>Hampton</td>\n",
       "      <td>2015-09-22</td>\n",
       "      <td>2016-02-06</td>\n",
       "      <td>1</td>\n",
       "      <td>slides</td>\n",
       "      <td>object_oriented_programming</td>\n",
       "      <td>None</td>\n",
       "      <td>None</td>\n",
       "    </tr>\n",
       "    <tr>\n",
       "      <th>2018-01-26</th>\n",
       "      <td>2018-01-26</td>\n",
       "      <td>09:56:24</td>\n",
       "      <td>javascript-i/conditionals</td>\n",
       "      <td>2</td>\n",
       "      <td>97.105.19.61</td>\n",
       "      <td>Teddy</td>\n",
       "      <td>2018-01-08</td>\n",
       "      <td>2018-05-17</td>\n",
       "      <td>2</td>\n",
       "      <td>javascript-i</td>\n",
       "      <td>conditionals</td>\n",
       "      <td>None</td>\n",
       "      <td>None</td>\n",
       "    </tr>\n",
       "  </tbody>\n",
       "</table>\n",
       "</div>"
      ],
      "text/plain": [
       "                 date      time                             endpoint  user  \\\n",
       "date                                                                         \n",
       "2018-01-26 2018-01-26  09:55:03                                    /     1   \n",
       "2018-01-26 2018-01-26  09:56:02                              java-ii     1   \n",
       "2018-01-26 2018-01-26  09:56:05  java-ii/object-oriented-programming     1   \n",
       "2018-01-26 2018-01-26  09:56:06   slides/object_oriented_programming     1   \n",
       "2018-01-26 2018-01-26  09:56:24            javascript-i/conditionals     2   \n",
       "\n",
       "               source_ip cohort_name start_date   end_date  program_id  \\\n",
       "date                                                                     \n",
       "2018-01-26  97.105.19.61     Hampton 2015-09-22 2016-02-06           1   \n",
       "2018-01-26  97.105.19.61     Hampton 2015-09-22 2016-02-06           1   \n",
       "2018-01-26  97.105.19.61     Hampton 2015-09-22 2016-02-06           1   \n",
       "2018-01-26  97.105.19.61     Hampton 2015-09-22 2016-02-06           1   \n",
       "2018-01-26  97.105.19.61       Teddy 2018-01-08 2018-05-17           2   \n",
       "\n",
       "                  page_1                       page_2 page_3 page_4  \n",
       "date                                                                 \n",
       "2018-01-26                                              None   None  \n",
       "2018-01-26       java-ii                         None   None   None  \n",
       "2018-01-26       java-ii  object-oriented-programming   None   None  \n",
       "2018-01-26        slides  object_oriented_programming   None   None  \n",
       "2018-01-26  javascript-i                 conditionals   None   None  "
      ]
     },
     "execution_count": 3,
     "metadata": {},
     "output_type": "execute_result"
    }
   ],
   "source": [
    "df, ds_df, web_df, staff_df = wrangle.prepare_log(df)\n",
    "df.head()"
   ]
  },
  {
   "cell_type": "markdown",
   "id": "2fa32d3a",
   "metadata": {},
   "source": [
    "### 1. Which lesson appears to attract the most traffic consistently across cohorts (per program)?"
   ]
  },
  {
   "cell_type": "markdown",
   "id": "c05b3b19",
   "metadata": {},
   "source": [
    "### 6. What topics are grads continuing to reference after graduation and into their jobs (for each program)?"
   ]
  },
  {
   "cell_type": "code",
   "execution_count": null,
   "id": "6e519caa",
   "metadata": {},
   "outputs": [],
   "source": [
    "data = [ds_df, web_df]"
   ]
  },
  {
   "cell_type": "code",
   "execution_count": 9,
   "id": "da37eedd",
   "metadata": {},
   "outputs": [
    {
     "data": {
      "image/png": "[encoded data removed]",
      "text/plain": [
       "<Figure size 432x288 with 1 Axes>"
      ]
     },
     "metadata": {
      "needs_background": "light"
     },
     "output_type": "display_data"
    }
   ],
   "source": [
    "ds_df = ds_df[['endpoint']].value_counts().head().plot(kind='barh')\n",
    "web_dev = web_dev[['endpoint']].value_counts().head().plot(kind='barh')\n",
    "\n",
    "fig1 = plt.figure()\n",
    "ax1 = fig1.add_subplot(111)\n",
    "\n",
    "ax1.plot(df1['A'])\n",
    "ax1.plot(df2['B'])"
   ]
  },
  {
   "cell_type": "code",
   "execution_count": 8,
   "id": "2c6875e5",
   "metadata": {},
   "outputs": [
    {
     "data": {
      "text/plain": [
       "<AxesSubplot:ylabel='endpoint'>"
      ]
     },
     "execution_count": 8,
     "metadata": {},
     "output_type": "execute_result"
    },
    {
     "data": {
      "image/png": "[encoded data removed]",
      "text/plain": [
       "<Figure size 1440x720 with 1 Axes>"
      ]
     },
     "metadata": {
      "needs_background": "light"
     },
     "output_type": "display_data"
    }
   ],
   "source": [
    "# for DS cohort\n",
    "plt.figure(figsize=(20,10))\n",
    "ds_df[['endpoint']].value_counts().head().plot(kind='barh')\n",
    "\n",
    "plt.figure(figsize=(20,10))\n",
    "web_dev[['endpoint']].value_counts().head().plot(kind='barh')\n",
    "\n",
    "a"
   ]
  },
  {
   "cell_type": "markdown",
   "id": "abc0973e",
   "metadata": {},
   "source": [
    "# / means homepage "
   ]
  },
  {
   "cell_type": "code",
   "execution_count": null,
   "id": "a453e278",
   "metadata": {},
   "outputs": [],
   "source": []
  }
 ],
 "metadata": {
  "kernelspec": {
   "display_name": "Python 3 (ipykernel)",
   "language": "python",
   "name": "python3"
  },
  "language_info": {
   "codemirror_mode": {
    "name": "ipython",
    "version": 3
   },
   "file_extension": ".py",
   "mimetype": "text/x-python",
   "name": "python",
   "nbconvert_exporter": "python",
   "pygments_lexer": "ipython3",
   "version": "3.9.12"
  }
 },
 "nbformat": 4,
 "nbformat_minor": 5
}
