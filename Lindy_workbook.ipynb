{
 "cells": [
  {
   "cell_type": "code",
   "execution_count": null,
   "id": "d38fa10d",
   "metadata": {},
   "outputs": [],
   "source": [
    "import matplotlib.pyplot as plt\n",
    "import numpy as np\n",
    "import pandas as pd\n",
    "import seaborn as sns\n",
    "from sklearn import metrics\n",
    "import env\n",
    "import warnings\n",
    "warnings.filterwarnings(\"ignore\")\n",
    "import os\n",
    "import re"
   ]
  },
  {
   "cell_type": "code",
   "execution_count": null,
   "id": "fc79e3d4",
   "metadata": {},
   "outputs": [],
   "source": [
    "url = f'mysql+pymysql://{env.user}:{env.password}@{env.host}/curriculum_logs'\n",
    "query = '''\n",
    "select logs.user_id as user, \n",
    "    cohorts.name as cohort_name, \n",
    "    logs.date, logs.time, \n",
    "    logs.path as endpoint, \n",
    "    logs.ip as source_ip, \n",
    "    cohorts.start_date,\n",
    "    cohorts.end_date,\n",
    "    cohorts.program_id\n",
    "from \n",
    "    logs \n",
    "    join cohorts\n",
    "    on logs.cohort_id = cohorts.id;\n",
    "'''\n",
    "df = pd.read_sql(query, url)\n",
    "df.to_csv('logs.csv')\n",
    "df.head()"
   ]
  },
  {
   "cell_type": "code",
   "execution_count": null,
   "id": "b1001787",
   "metadata": {},
   "outputs": [],
   "source": [
    "# set date column as datetime dtype\n",
    "df.date = pd.to_datetime(df.date)\n",
    "df.start_date = pd.to_datetime(df.start_date)\n",
    "df.end_date = pd.to_datetime(df.end_date)\n",
    "df = df.set_index(df.date)"
   ]
  },
  {
   "cell_type": "code",
   "execution_count": null,
   "id": "fb5820f3",
   "metadata": {},
   "outputs": [],
   "source": [
    "#make a pages column\n",
    "df['pages_one_user'] = df['endpoint'].resample('d').count()\n",
    "df.head(10)"
   ]
  },
  {
   "cell_type": "code",
   "execution_count": null,
   "id": "7cf93f31",
   "metadata": {},
   "outputs": [],
   "source": [
    "# split path into 4 pages\n",
    "df= pd.concat([df, df.endpoint.str.split('/',3, expand = True)], axis=1)\n",
    "df.head(10)"
   ]
  },
  {
   "cell_type": "code",
   "execution_count": null,
   "id": "4788cba4",
   "metadata": {},
   "outputs": [],
   "source": [
    "# rename pages\n",
    "df.rename(columns={0:'page_1',1:'page_2',2:'page_3',3:'page_4'}, inplace = True)\n",
    "df.head()"
   ]
  },
  {
   "cell_type": "code",
   "execution_count": null,
   "id": "b10069ba",
   "metadata": {},
   "outputs": [],
   "source": [
    "#check if any staff and in web dev\n",
    "wd_df= df[(df['program_id'] == 1) & (df['cohort_name'] == 'Staff')]\n",
    "wd_df.head()"
   ]
  },
  {
   "cell_type": "code",
   "execution_count": null,
   "id": "e4d39263",
   "metadata": {},
   "outputs": [],
   "source": [
    "#checking if any one is staff and in data science\n",
    "ds_df= df[(df['program_id'] == 3) & (df['cohort_name'] == 'Staff')]\n",
    "ds_df.head()"
   ]
  },
  {
   "cell_type": "code",
   "execution_count": null,
   "id": "57d6a07f",
   "metadata": {},
   "outputs": [],
   "source": [
    "# web dev and DS with activity after end date into own df wit\n",
    "web_dev = df[(df['program_id'] != 3) & (df['cohort_name'] != 'Staff') & (df.index > df.end_date)]\n",
    "DS = df[(df['program_id'] == 3) & (df.index > df.end_date)]\n",
    "DS.head()"
   ]
  },
  {
   "cell_type": "code",
   "execution_count": null,
   "id": "b2633840",
   "metadata": {},
   "outputs": [],
   "source": [
    "web_dev.head()"
   ]
  },
  {
   "cell_type": "markdown",
   "id": "7a5e2143",
   "metadata": {},
   "source": [
    "### What topics are grads continuing to reference after graduation and into their jobs (for each program)?"
   ]
  },
  {
   "cell_type": "code",
   "execution_count": null,
   "id": "7012897b",
   "metadata": {},
   "outputs": [],
   "source": [
    "# for DS cohort\n",
    "plt.figure(figsize=(20,10))\n",
    "DS[['endpoint']].value_counts().head().plot(kind='barh')"
   ]
  },
  {
   "cell_type": "code",
   "execution_count": null,
   "id": "df369d44",
   "metadata": {},
   "outputs": [],
   "source": [
    "plt.figure(figsize=(20,10))\n",
    "web_dev[['endpoint']].value_counts().head().plot(kind='barh')"
   ]
  },
  {
   "cell_type": "code",
   "execution_count": null,
   "id": "06201592",
   "metadata": {},
   "outputs": [],
   "source": [
    "DS."
   ]
  }
 ],
 "metadata": {
  "kernelspec": {
   "display_name": "Python 3 (ipykernel)",
   "language": "python",
   "name": "python3"
  },
  "language_info": {
   "codemirror_mode": {
    "name": "ipython",
    "version": 3
   },
   "file_extension": ".py",
   "mimetype": "text/x-python",
   "name": "python",
   "nbconvert_exporter": "python",
   "pygments_lexer": "ipython3",
   "version": "3.9.12"
  }
 },
 "nbformat": 4,
 "nbformat_minor": 5
}
